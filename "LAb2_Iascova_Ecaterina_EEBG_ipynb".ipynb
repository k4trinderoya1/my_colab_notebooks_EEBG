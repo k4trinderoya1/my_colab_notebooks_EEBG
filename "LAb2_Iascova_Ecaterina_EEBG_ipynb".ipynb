{
  "nbformat": 4,
  "nbformat_minor": 0,
  "metadata": {
    "colab": {
      "provenance": [],
      "toc_visible": true,
      "include_colab_link": true
    },
    "kernelspec": {
      "name": "python3",
      "display_name": "Python 3"
    },
    "language_info": {
      "name": "python"
    }
  },
  "cells": [
    {
      "cell_type": "markdown",
      "metadata": {
        "id": "view-in-github",
        "colab_type": "text"
      },
      "source": [
        "<a href=\"https://colab.research.google.com/github/k4trinderoya1/my_colab_notebooks_EEBG/blob/main/%22LAb2_Iascova_Ecaterina_EEBG_ipynb%22.ipynb\" target=\"_parent\"><img src=\"https://colab.research.google.com/assets/colab-badge.svg\" alt=\"Open In Colab\"/></a>"
      ]
    },
    {
      "cell_type": "markdown",
      "source": [
        "##**Instructions**\n",
        "\n",
        "In a copy of this Colab notebook, use the commands presented in the previous sections to write a Unix script to complete the exercises below. You will be graded based on whether you can produce the correct output files.\n",
        "\n",
        "To start, download the files for the assignment by running the commands below:"
      ],
      "metadata": {
        "id": "gad5WJ5RK2wR"
      }
    },
    {
      "cell_type": "code",
      "source": [
        "%%bash\n",
        "wget -nv -O IGHJ_Mouse.fa 'https://drive.google.com/uc?export=download&id=19OjK8m9M9WwUZpB-5FLSu7RWeQhRbYKO'\n",
        "wget -nv -O IGHJ_Human.fa 'https://drive.google.com/uc?export=download&id=1kUzbiYfBOYQDXUaUzJ4NEGJN9ysPulBz'\n",
        "wget -nv -O IGHJ_Zebrafish.fa 'https://drive.google.com/uc?export=download&id=1m0VB08CBfl6GZ9rfCtmDyh6PI7elHcak'"
      ],
      "metadata": {
        "colab": {
          "base_uri": "https://localhost:8080/"
        },
        "id": "GCDFzcvBhWtl",
        "outputId": "c863ef1d-4378-4ce4-a9a2-f021dc128fc5"
      },
      "execution_count": null,
      "outputs": [
        {
          "output_type": "stream",
          "name": "stderr",
          "text": [
            "2022-01-13 17:44:16 URL:https://doc-14-1g-docs.googleusercontent.com/docs/securesc/ha0ro937gcuc7l7deffksulhg5h7mbp1/f2kourtnlcpri0g92l0ll3eu8sqp2g35/1642095825000/06194299299598647526/*/19OjK8m9M9WwUZpB-5FLSu7RWeQhRbYKO?e=download [1178/1178] -> \"IGHJ_Mouse.fa\" [1]\n",
            "2022-01-13 17:44:17 URL:https://doc-0o-1g-docs.googleusercontent.com/docs/securesc/ha0ro937gcuc7l7deffksulhg5h7mbp1/c00a4i7ekf4l69f7o2o19glst3mhhi6p/1642095825000/06194299299598647526/*/1kUzbiYfBOYQDXUaUzJ4NEGJN9ysPulBz?e=download [2639/2639] -> \"IGHJ_Human.fa\" [1]\n",
            "2022-01-13 17:44:18 URL:https://doc-0g-1g-docs.googleusercontent.com/docs/securesc/ha0ro937gcuc7l7deffksulhg5h7mbp1/m7jo5qgckvpdshtv2hos3epiokaab8rc/1642095825000/06194299299598647526/*/1m0VB08CBfl6GZ9rfCtmDyh6PI7elHcak?e=download [1034/1034] -> \"IGHJ_Zebrafish.fa\" [1]\n"
          ]
        }
      ]
    },
    {
      "cell_type": "markdown",
      "source": [
        "1) Create a Unix script named `headerExtractor` to extract the FASTA headers from all files and save them in a file called `headers.txt.`"
      ],
      "metadata": {
        "id": "aCTU0V5sK7yd"
      }
    },
    {
      "cell_type": "markdown",
      "source": [
        "2) Create a Unix script named `seqMeasurer` to extract both FASTA headers and sequences lengths from all files and save them in a file called `lengths.txt.`\n",
        "\n",
        "Each FASTA file should have an entry in `lengths.txt`.\n",
        "The format of each entry in `lengths.txt` is as follows:\n",
        "*   Multiple lines with the FASTA headers for a file\n",
        "*   On its own line, the sum of the nucleotides for all FASTA sequences in that file\n",
        "\n",
        "_Hint_: Try experimenting with the `grep` commands's `-v`/ `--invert-match` option to search for string that do not match the target string or regular expression."
      ],
      "metadata": {
        "id": "tNGTiM9aLFnk"
      }
    },
    {
      "cell_type": "code",
      "source": [
        "!wget -O IGHJ_Mouse.fa 'https://drive.google.com/uc?export=download&id=19OjK8m9M9WwUZpB-5FLSu7RWeQhRbYKO'\n",
        "!wget -O IGHJ_Human.fa 'https://drive.google.com/uc?export=download&id=1kUzbiYfBOYQDXUaUzJ4NEGJN9ysPulBz'\n",
        "!wget -O IGHJ_Zebrafish.fa 'https://drive.google.com/uc?export=download&id=1m0VB08CBfl6GZ9rfCtmDyh6PI7elHcak'\n",
        "\n",
        "header_extractor_script = \"\"\"\n",
        "#!/bin/bash\n",
        "> headers.txt\n",
        "for file in *.fa\n",
        "do\n",
        "  grep \"^>\" \"$file\" >> headers.txt\n",
        "done\n",
        "\"\"\"\n",
        "with open('headerExtractor', 'w') as file:\n",
        "    file.write(header_extractor_script)\n",
        "\n",
        "!chmod +x headerExtractor\n",
        "!./headerExtractor\n",
        "!cat headers.txt\n",
        "\n"
      ],
      "metadata": {
        "id": "qm7JicwuSguG"
      },
      "execution_count": null,
      "outputs": []
    },
    {
      "cell_type": "code",
      "source": [
        "seq_measurer_script = \"\"\"\n",
        "#!/bin/bash\n",
        "> lengths.txt\n",
        "for file in *.fa\n",
        "do\n",
        "  echo \"File: $file\" >> lengths.txt\n",
        "  grep \"^>\" \"$file\" >> lengths.txt\n",
        "  sequence_length=$(grep -v \"^>\" \"$file\" | tr -d '\\\\n' | wc -c)\n",
        "  echo \"Total sequence length: $sequence_length\" >> lengths.txt\n",
        "  echo \"\" >> lengths.txt\n",
        "done\n",
        "\"\"\"\n",
        "\n",
        "with open('seqMeasurer', 'w') as file:\n",
        "    file.write(seq_measurer_script)\n",
        "\n",
        "!chmod +x seqMeasurer\n",
        "!./seqMeasurer\n",
        "!cat lengths.txt\n"
      ],
      "metadata": {
        "colab": {
          "base_uri": "https://localhost:8080/"
        },
        "id": "nZViDyS_ep3h",
        "outputId": "b68f9add-d607-41f2-ec9f-cc2242d5cd21"
      },
      "execution_count": null,
      "outputs": [
        {
          "output_type": "stream",
          "name": "stdout",
          "text": [
            "grep: *.fa: No such file or directory\n",
            "grep: *.fa: No such file or directory\n",
            "File: *.fa\n",
            "Total sequence length: 0\n",
            "\n"
          ]
        }
      ]
    }
  ]
}