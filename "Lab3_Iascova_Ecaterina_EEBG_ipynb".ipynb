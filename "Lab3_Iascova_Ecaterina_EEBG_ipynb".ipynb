{
  "nbformat": 4,
  "nbformat_minor": 0,
  "metadata": {
    "colab": {
      "provenance": [],
      "include_colab_link": true
    },
    "kernelspec": {
      "name": "python3",
      "display_name": "Python 3"
    },
    "language_info": {
      "name": "python"
    }
  },
  "cells": [
    {
      "cell_type": "markdown",
      "metadata": {
        "id": "view-in-github",
        "colab_type": "text"
      },
      "source": [
        "<a href=\"https://colab.research.google.com/github/k4trinderoya1/my_colab_notebooks_EEBG/blob/main/%22Lab3_Iascova_Ecaterina_EEBG_ipynb%22.ipynb\" target=\"_parent\"><img src=\"https://colab.research.google.com/assets/colab-badge.svg\" alt=\"Open In Colab\"/></a>"
      ]
    },
    {
      "cell_type": "markdown",
      "source": [
        "##**Instructions**\n",
        "\n",
        "In a copy of this Colab notebook, use the Python fundamentals presented in the previous sections to fix the errors in the code below. You will be graded based on how many of the following code blocks you successfully debug.\n"
      ],
      "metadata": {
        "id": "EeVLHueAKQp8"
      }
    },
    {
      "cell_type": "markdown",
      "source": [
        "**Select the O antigen from this list.**"
      ],
      "metadata": {
        "id": "_d8pbowJlYbE"
      }
    },
    {
      "cell_type": "code",
      "source": [
        "bloodAntigens == ['A', 'B', 'O']\n",
        "bloodAntigens == [3]"
      ],
      "metadata": {
        "colab": {
          "base_uri": "https://localhost:8080/",
          "height": 182
        },
        "id": "gFo6GtopA8w2",
        "outputId": "11990205-7d03-4b32-fa6e-81ffb100f2a7"
      },
      "execution_count": null,
      "outputs": [
        {
          "output_type": "error",
          "ename": "NameError",
          "evalue": "ignored",
          "traceback": [
            "\u001b[0;31m---------------------------------------------------------------------------\u001b[0m",
            "\u001b[0;31mNameError\u001b[0m                                 Traceback (most recent call last)",
            "\u001b[0;32m<ipython-input-90-fcf8281afe26>\u001b[0m in \u001b[0;36m<module>\u001b[0;34m()\u001b[0m\n\u001b[0;32m----> 1\u001b[0;31m \u001b[0mbloodAntigens\u001b[0m \u001b[0;34m==\u001b[0m \u001b[0;34m[\u001b[0m\u001b[0;34m'A'\u001b[0m\u001b[0;34m,\u001b[0m \u001b[0;34m'B'\u001b[0m\u001b[0;34m,\u001b[0m \u001b[0;34m'O'\u001b[0m\u001b[0;34m]\u001b[0m\u001b[0;34m\u001b[0m\u001b[0;34m\u001b[0m\u001b[0m\n\u001b[0m\u001b[1;32m      2\u001b[0m \u001b[0mbloodAntigens\u001b[0m\u001b[0;34m[\u001b[0m\u001b[0;36m3\u001b[0m\u001b[0;34m]\u001b[0m\u001b[0;34m\u001b[0m\u001b[0;34m\u001b[0m\u001b[0m\n",
            "\u001b[0;31mNameError\u001b[0m: name 'bloodAntigens' is not defined"
          ]
        }
      ]
    },
    {
      "cell_type": "code",
      "source": [
        "bloodAntigens= ['A', 'B', 'O']\n",
        "bloodAntigens[2]"
      ],
      "metadata": {
        "colab": {
          "base_uri": "https://localhost:8080/",
          "height": 36
        },
        "id": "klYp9fSOkhgj",
        "outputId": "3690ef8e-1ec2-46a0-bf68-ded194892bb3"
      },
      "execution_count": null,
      "outputs": [
        {
          "output_type": "execute_result",
          "data": {
            "text/plain": [
              "'O'"
            ],
            "application/vnd.google.colaboratory.intrinsic+json": {
              "type": "string"
            }
          },
          "metadata": {},
          "execution_count": 9
        }
      ]
    },
    {
      "cell_type": "markdown",
      "source": [
        "**Lookup the O-compatible plasma types from this dictionary.**"
      ],
      "metadata": {
        "id": "KNs9cRbUlodJ"
      }
    },
    {
      "cell_type": "code",
      "source": [
        "bloodTypeCompatibilities = { A:['A', 'AB'], B:['B', 'AB'], AB:['AB'] , O: ['A', 'B', 'AB', 'O']  }\n",
        "bloodTypeCompatibilities[0]"
      ],
      "metadata": {
        "id": "-jFXYISEDMD-"
      },
      "execution_count": null,
      "outputs": []
    },
    {
      "cell_type": "code",
      "source": [
        "bloodTypeCompatibilities = {'A': ['A', 'AB'], 'B': ['B', 'AB'], 'AB': ['AB'], 'O': ['A', 'B', 'AB', 'O']}\n",
        "bloodTypeCompatibilities['O']\n"
      ],
      "metadata": {
        "colab": {
          "base_uri": "https://localhost:8080/"
        },
        "id": "9ZVFN4MdkWSB",
        "outputId": "1ac15cbd-5412-4cfe-dd1b-b5955e1e47f8"
      },
      "execution_count": null,
      "outputs": [
        {
          "output_type": "execute_result",
          "data": {
            "text/plain": [
              "['A', 'B', 'AB', 'O']"
            ]
          },
          "metadata": {},
          "execution_count": 5
        }
      ]
    },
    {
      "cell_type": "markdown",
      "source": [
        "**Access the beginning of the sample name column in the following DataFrame.**"
      ],
      "metadata": {
        "id": "wphXFcclqrhy"
      }
    },
    {
      "cell_type": "code",
      "source": [
        "import pandas as pd\n",
        "columns = {'sampleName': ['cell1','cell2','cell3','cell4'], 'Treatment': ['Case', 'Control', 'Control', 'Case']}\n",
        "df = pd.DataFrame(columns)\n",
        "\n",
        "DataFrame[`sampleName`].head()"
      ],
      "metadata": {
        "id": "m2GXww5sKsT9"
      },
      "execution_count": null,
      "outputs": []
    },
    {
      "cell_type": "code",
      "source": [
        "import pandas as pd\n",
        "columns = {'sampleName': ['cell1','cell2','cell3','cell4'], 'Treatment': ['Case', 'Control', 'Control', 'Case']}\n",
        "pd.DataFrame(columns)\n",
        "df = pd.DataFrame(columns)\n",
        "df['sampleName'].head()"
      ],
      "metadata": {
        "colab": {
          "base_uri": "https://localhost:8080/"
        },
        "id": "_G_uXAFEktPc",
        "outputId": "10e5bc18-eca4-45ad-9a4c-2f5b04c3b618"
      },
      "execution_count": null,
      "outputs": [
        {
          "output_type": "execute_result",
          "data": {
            "text/plain": [
              "0    cell1\n",
              "1    cell2\n",
              "2    cell3\n",
              "3    cell4\n",
              "Name: sampleName, dtype: object"
            ]
          },
          "metadata": {},
          "execution_count": 10
        }
      ]
    },
    {
      "cell_type": "markdown",
      "source": [
        "**Save the Superfamily column from the DataFrame downloaded below.**"
      ],
      "metadata": {
        "id": "WbH-XNuLTjF8"
      }
    },
    {
      "cell_type": "code",
      "source": [
        "import pandas as pd\n",
        "antBrainCellsDF = pd.read_csv(https://zenodo.org/record/4579911/files/00_RKG_MS_WG_RawCCData.csv?download=1)\n",
        "superfamilyColumn = antBrainCellsDF['Superfami1y']\n",
        "pd.to_csv(superfamilyColumn)"
      ],
      "metadata": {
        "id": "xSsoCsVOSZQo",
        "colab": {
          "base_uri": "https://localhost:8080/",
          "height": 110
        },
        "outputId": "7152be4f-f8cd-4157-d78d-a3c0c52e5259"
      },
      "execution_count": null,
      "outputs": [
        {
          "output_type": "error",
          "ename": "SyntaxError",
          "evalue": "invalid decimal literal (<ipython-input-13-25d2faabe9f4>, line 2)",
          "traceback": [
            "\u001b[0;36m  File \u001b[0;32m\"<ipython-input-13-25d2faabe9f4>\"\u001b[0;36m, line \u001b[0;32m2\u001b[0m\n\u001b[0;31m    antBrainCellsDF = pd.read_csv(https://zenodo.org/record/4579911/files/00_RKG_MS_WG_RawCCData.csv?download=1)\u001b[0m\n\u001b[0m                                                                            ^\u001b[0m\n\u001b[0;31mSyntaxError\u001b[0m\u001b[0;31m:\u001b[0m invalid decimal literal\n"
          ]
        }
      ]
    },
    {
      "cell_type": "code",
      "source": [
        "import pandas as pd\n",
        "antBrainCellsDF = pd.read_csv('https://zenodo.org/record/4579911/files/00_RKG_MS_WG_RawCCData.csv?download=1')\n",
        "superfamilyColumn = antBrainCellsDF['Superfamily']\n",
        "superfamilyColumn.to_csv('superfamilyColumn.csv')"
      ],
      "metadata": {
        "id": "VyJEIUFamm9g"
      },
      "execution_count": null,
      "outputs": []
    }
  ]
}